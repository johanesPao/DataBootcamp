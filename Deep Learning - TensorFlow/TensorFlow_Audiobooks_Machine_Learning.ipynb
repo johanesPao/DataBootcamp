{
 "cells": [
  {
   "cell_type": "markdown",
   "source": [
    "# Practical example. Audiobooks"
   ],
   "metadata": {
    "collapsed": false,
    "pycharm": {
     "name": "#%% md\n"
    }
   }
  },
  {
   "cell_type": "markdown",
   "source": [
    "## Create the machine learning algorithm"
   ],
   "metadata": {
    "collapsed": false,
    "pycharm": {
     "name": "#%% md\n"
    }
   }
  },
  {
   "cell_type": "markdown",
   "source": [
    "### Import the relevant libraries"
   ],
   "metadata": {
    "collapsed": false,
    "pycharm": {
     "name": "#%% md\n"
    }
   }
  },
  {
   "cell_type": "code",
   "execution_count": 31,
   "outputs": [],
   "source": [
    "import numpy as np\n",
    "import tensorflow as tf"
   ],
   "metadata": {
    "collapsed": false,
    "pycharm": {
     "name": "#%%\n"
    }
   }
  },
  {
   "cell_type": "markdown",
   "source": [
    "### Data"
   ],
   "metadata": {
    "collapsed": false,
    "pycharm": {
     "name": "#%% md\n"
    }
   }
  },
  {
   "cell_type": "code",
   "execution_count": 32,
   "outputs": [],
   "source": [
    "# Training Data\n",
    "npz = np.load('Audiobooks_data_train.npz')\n",
    "train_inputs, train_targets = npz['inputs'].astype(np.float64), npz['targets'].astype(np.int64)\n",
    "\n",
    "# Validation Data\n",
    "npz = np.load('Audiobooks_data_validation.npz')\n",
    "validation_inputs, validation_targets = npz['inputs'].astype(np.float64), npz['targets'].astype(np.int64)\n",
    "\n",
    "# Test Data\n",
    "npz = np.load('Audiobooks_data_test.npz')\n",
    "test_inputs, test_targets = npz['inputs'].astype(np.float64), npz['targets'].astype(np.int64)"
   ],
   "metadata": {
    "collapsed": false,
    "pycharm": {
     "name": "#%%\n"
    }
   }
  },
  {
   "cell_type": "markdown",
   "source": [
    "### Model"
   ],
   "metadata": {
    "collapsed": false,
    "pycharm": {
     "name": "#%% md\n"
    }
   }
  },
  {
   "cell_type": "markdown",
   "source": [
    "Outline, Optimizers, Loss, Early Stopping and Training"
   ],
   "metadata": {
    "collapsed": false,
    "pycharm": {
     "name": "#%% md\n"
    }
   }
  },
  {
   "cell_type": "code",
   "execution_count": 33,
   "outputs": [
    {
     "name": "stdout",
     "output_type": "stream",
     "text": [
      "Epoch 1/100\n",
      "36/36 - 2s - loss: 0.5809 - accuracy: 0.6759 - val_loss: 0.5033 - val_accuracy: 0.7517 - 2s/epoch - 42ms/step\n",
      "Epoch 2/100\n",
      "36/36 - 0s - loss: 0.4529 - accuracy: 0.7779 - val_loss: 0.4407 - val_accuracy: 0.7718 - 128ms/epoch - 4ms/step\n",
      "Epoch 3/100\n",
      "36/36 - 0s - loss: 0.4087 - accuracy: 0.7907 - val_loss: 0.4167 - val_accuracy: 0.7808 - 117ms/epoch - 3ms/step\n",
      "Epoch 4/100\n",
      "36/36 - 0s - loss: 0.3850 - accuracy: 0.8002 - val_loss: 0.3986 - val_accuracy: 0.7651 - 81ms/epoch - 2ms/step\n",
      "Epoch 5/100\n",
      "36/36 - 0s - loss: 0.3725 - accuracy: 0.8002 - val_loss: 0.3873 - val_accuracy: 0.7964 - 93ms/epoch - 3ms/step\n",
      "Epoch 6/100\n",
      "36/36 - 0s - loss: 0.3593 - accuracy: 0.8089 - val_loss: 0.3833 - val_accuracy: 0.7785 - 114ms/epoch - 3ms/step\n",
      "Epoch 7/100\n",
      "36/36 - 0s - loss: 0.3519 - accuracy: 0.8125 - val_loss: 0.3820 - val_accuracy: 0.7852 - 137ms/epoch - 4ms/step\n",
      "Epoch 8/100\n",
      "36/36 - 0s - loss: 0.3451 - accuracy: 0.8117 - val_loss: 0.3720 - val_accuracy: 0.7919 - 162ms/epoch - 4ms/step\n",
      "Epoch 9/100\n",
      "36/36 - 0s - loss: 0.3409 - accuracy: 0.8148 - val_loss: 0.3672 - val_accuracy: 0.7964 - 96ms/epoch - 3ms/step\n",
      "Epoch 10/100\n",
      "36/36 - 0s - loss: 0.3370 - accuracy: 0.8139 - val_loss: 0.3660 - val_accuracy: 0.7964 - 100ms/epoch - 3ms/step\n",
      "Epoch 11/100\n",
      "36/36 - 0s - loss: 0.3344 - accuracy: 0.8153 - val_loss: 0.3705 - val_accuracy: 0.7897 - 110ms/epoch - 3ms/step\n",
      "Epoch 12/100\n",
      "36/36 - 0s - loss: 0.3334 - accuracy: 0.8223 - val_loss: 0.3649 - val_accuracy: 0.7987 - 126ms/epoch - 3ms/step\n",
      "Epoch 13/100\n",
      "36/36 - 0s - loss: 0.3291 - accuracy: 0.8201 - val_loss: 0.3680 - val_accuracy: 0.7964 - 132ms/epoch - 4ms/step\n",
      "Epoch 14/100\n",
      "36/36 - 0s - loss: 0.3258 - accuracy: 0.8270 - val_loss: 0.3605 - val_accuracy: 0.7942 - 180ms/epoch - 5ms/step\n",
      "Epoch 15/100\n",
      "36/36 - 0s - loss: 0.3241 - accuracy: 0.8203 - val_loss: 0.3720 - val_accuracy: 0.7763 - 128ms/epoch - 4ms/step\n",
      "Epoch 16/100\n",
      "36/36 - 0s - loss: 0.3239 - accuracy: 0.8195 - val_loss: 0.3601 - val_accuracy: 0.7942 - 107ms/epoch - 3ms/step\n",
      "Epoch 17/100\n",
      "36/36 - 0s - loss: 0.3198 - accuracy: 0.8259 - val_loss: 0.3805 - val_accuracy: 0.7584 - 118ms/epoch - 3ms/step\n",
      "Epoch 18/100\n",
      "36/36 - 0s - loss: 0.3215 - accuracy: 0.8290 - val_loss: 0.3557 - val_accuracy: 0.8031 - 119ms/epoch - 3ms/step\n",
      "Epoch 19/100\n",
      "36/36 - 0s - loss: 0.3191 - accuracy: 0.8231 - val_loss: 0.3660 - val_accuracy: 0.7942 - 168ms/epoch - 5ms/step\n",
      "Epoch 20/100\n",
      "36/36 - 0s - loss: 0.3149 - accuracy: 0.8256 - val_loss: 0.3551 - val_accuracy: 0.7964 - 126ms/epoch - 3ms/step\n",
      "Epoch 21/100\n",
      "36/36 - 0s - loss: 0.3147 - accuracy: 0.8259 - val_loss: 0.3556 - val_accuracy: 0.8009 - 98ms/epoch - 3ms/step\n",
      "Epoch 22/100\n",
      "36/36 - 0s - loss: 0.3142 - accuracy: 0.8290 - val_loss: 0.3706 - val_accuracy: 0.7830 - 146ms/epoch - 4ms/step\n"
     ]
    },
    {
     "data": {
      "text/plain": "<keras.callbacks.History at 0x22933495c90>"
     },
     "execution_count": 33,
     "metadata": {},
     "output_type": "execute_result"
    }
   ],
   "source": [
    "input_size = 10\n",
    "output_size = 2\n",
    "hidden_layer_size = 50\n",
    "\n",
    "model = tf.keras.Sequential([\n",
    "    tf.keras.layers.Dense(hidden_layer_size, activation='relu'),\n",
    "    tf.keras.layers.Dense(hidden_layer_size, activation='relu'),\n",
    "    tf.keras.layers.Dense(output_size, activation='softmax'),\n",
    "])\n",
    "\n",
    "model.compile(optimizer='adam', loss='sparse_categorical_crossentropy', metrics=['accuracy'])\n",
    "\n",
    "batch_size = 100\n",
    "\n",
    "max_epochs = 100\n",
    "\n",
    "early_stopping = tf.keras.callbacks.EarlyStopping(patience=2)\n",
    "\n",
    "model.fit(train_inputs,\n",
    "          train_targets,\n",
    "          batch_size = batch_size,\n",
    "          epochs = max_epochs,\n",
    "          callbacks = [early_stopping],\n",
    "          validation_data = (validation_inputs, validation_targets),\n",
    "          verbose = 2)"
   ],
   "metadata": {
    "collapsed": false,
    "pycharm": {
     "name": "#%%\n"
    }
   }
  },
  {
   "cell_type": "markdown",
   "source": [
    "### Test the model"
   ],
   "metadata": {
    "collapsed": false,
    "pycharm": {
     "name": "#%% md\n"
    }
   }
  },
  {
   "cell_type": "code",
   "execution_count": 34,
   "outputs": [
    {
     "name": "stdout",
     "output_type": "stream",
     "text": [
      "14/14 [==============================] - 0s 5ms/step - loss: 0.3768 - accuracy: 0.8058\n"
     ]
    }
   ],
   "source": [
    "test_loss, test_accuracy = model.evaluate(test_inputs, test_targets)"
   ],
   "metadata": {
    "collapsed": false,
    "pycharm": {
     "name": "#%%\n"
    }
   }
  },
  {
   "cell_type": "code",
   "execution_count": 35,
   "outputs": [
    {
     "name": "stdout",
     "output_type": "stream",
     "text": [
      "\n",
      "Test loss: 0.38. Test accuracy: 80.58%\n"
     ]
    }
   ],
   "source": [
    "print('\\nTest loss: {0:.2f}. Test accuracy: {1:.2f}%'.format(test_loss, test_accuracy*100.))"
   ],
   "metadata": {
    "collapsed": false,
    "pycharm": {
     "name": "#%%\n"
    }
   }
  },
  {
   "cell_type": "code",
   "execution_count": null,
   "outputs": [],
   "source": [],
   "metadata": {
    "collapsed": false,
    "pycharm": {
     "name": "#%%\n"
    }
   }
  }
 ],
 "metadata": {
  "kernelspec": {
   "display_name": "Python 3",
   "language": "python",
   "name": "python3"
  },
  "language_info": {
   "codemirror_mode": {
    "name": "ipython",
    "version": 2
   },
   "file_extension": ".py",
   "mimetype": "text/x-python",
   "name": "python",
   "nbconvert_exporter": "python",
   "pygments_lexer": "ipython2",
   "version": "2.7.6"
  }
 },
 "nbformat": 4,
 "nbformat_minor": 0
}