{
 "cells": [
  {
   "cell_type": "markdown",
   "source": [
    "# Market Segmentation Example"
   ],
   "metadata": {
    "collapsed": false,
    "pycharm": {
     "name": "#%% md\n"
    }
   }
  },
  {
   "cell_type": "markdown",
   "source": [
    "## Import the relevant libraries"
   ],
   "metadata": {
    "collapsed": false,
    "pycharm": {
     "name": "#%% md\n"
    }
   }
  },
  {
   "cell_type": "code",
   "execution_count": 1,
   "outputs": [],
   "source": [
    "import numpy as np\n",
    "import pandas as pd\n",
    "import matplotlib.pyplot as plt\n",
    "import seaborn as sns\n",
    "from sklearn.cluster import KMeans\n",
    "sns.set()"
   ],
   "metadata": {
    "collapsed": false,
    "pycharm": {
     "name": "#%%\n"
    }
   }
  },
  {
   "cell_type": "markdown",
   "source": [
    "## Load the data"
   ],
   "metadata": {
    "collapsed": false,
    "pycharm": {
     "name": "#%% md\n"
    }
   }
  },
  {
   "cell_type": "code",
   "execution_count": 2,
   "outputs": [],
   "source": [
    "data = pd.read_csv('3.12. Example.csv')"
   ],
   "metadata": {
    "collapsed": false,
    "pycharm": {
     "name": "#%%\n"
    }
   }
  },
  {
   "cell_type": "code",
   "execution_count": 3,
   "outputs": [
    {
     "data": {
      "text/plain": "    Satisfaction  Loyalty\n0              4    -1.33\n1              6    -0.28\n2              5    -0.99\n3              7    -0.29\n4              4     1.06\n5              1    -1.66\n6             10    -0.97\n7              8    -0.32\n8              8     1.02\n9              8     0.68\n10            10    -0.34\n11             5     0.39\n12             5    -1.69\n13             2     0.67\n14             7     0.27\n15             9     1.36\n16             8     1.38\n17             7     1.36\n18             7    -0.34\n19             9     0.67\n20            10     1.18\n21             3    -1.69\n22             4     1.04\n23             3    -0.96\n24             6     1.03\n25             9    -0.99\n26            10     0.37\n27             9     0.03\n28             3    -1.36\n29             5     0.73",
      "text/html": "<div>\n<style scoped>\n    .dataframe tbody tr th:only-of-type {\n        vertical-align: middle;\n    }\n\n    .dataframe tbody tr th {\n        vertical-align: top;\n    }\n\n    .dataframe thead th {\n        text-align: right;\n    }\n</style>\n<table border=\"1\" class=\"dataframe\">\n  <thead>\n    <tr style=\"text-align: right;\">\n      <th></th>\n      <th>Satisfaction</th>\n      <th>Loyalty</th>\n    </tr>\n  </thead>\n  <tbody>\n    <tr>\n      <th>0</th>\n      <td>4</td>\n      <td>-1.33</td>\n    </tr>\n    <tr>\n      <th>1</th>\n      <td>6</td>\n      <td>-0.28</td>\n    </tr>\n    <tr>\n      <th>2</th>\n      <td>5</td>\n      <td>-0.99</td>\n    </tr>\n    <tr>\n      <th>3</th>\n      <td>7</td>\n      <td>-0.29</td>\n    </tr>\n    <tr>\n      <th>4</th>\n      <td>4</td>\n      <td>1.06</td>\n    </tr>\n    <tr>\n      <th>5</th>\n      <td>1</td>\n      <td>-1.66</td>\n    </tr>\n    <tr>\n      <th>6</th>\n      <td>10</td>\n      <td>-0.97</td>\n    </tr>\n    <tr>\n      <th>7</th>\n      <td>8</td>\n      <td>-0.32</td>\n    </tr>\n    <tr>\n      <th>8</th>\n      <td>8</td>\n      <td>1.02</td>\n    </tr>\n    <tr>\n      <th>9</th>\n      <td>8</td>\n      <td>0.68</td>\n    </tr>\n    <tr>\n      <th>10</th>\n      <td>10</td>\n      <td>-0.34</td>\n    </tr>\n    <tr>\n      <th>11</th>\n      <td>5</td>\n      <td>0.39</td>\n    </tr>\n    <tr>\n      <th>12</th>\n      <td>5</td>\n      <td>-1.69</td>\n    </tr>\n    <tr>\n      <th>13</th>\n      <td>2</td>\n      <td>0.67</td>\n    </tr>\n    <tr>\n      <th>14</th>\n      <td>7</td>\n      <td>0.27</td>\n    </tr>\n    <tr>\n      <th>15</th>\n      <td>9</td>\n      <td>1.36</td>\n    </tr>\n    <tr>\n      <th>16</th>\n      <td>8</td>\n      <td>1.38</td>\n    </tr>\n    <tr>\n      <th>17</th>\n      <td>7</td>\n      <td>1.36</td>\n    </tr>\n    <tr>\n      <th>18</th>\n      <td>7</td>\n      <td>-0.34</td>\n    </tr>\n    <tr>\n      <th>19</th>\n      <td>9</td>\n      <td>0.67</td>\n    </tr>\n    <tr>\n      <th>20</th>\n      <td>10</td>\n      <td>1.18</td>\n    </tr>\n    <tr>\n      <th>21</th>\n      <td>3</td>\n      <td>-1.69</td>\n    </tr>\n    <tr>\n      <th>22</th>\n      <td>4</td>\n      <td>1.04</td>\n    </tr>\n    <tr>\n      <th>23</th>\n      <td>3</td>\n      <td>-0.96</td>\n    </tr>\n    <tr>\n      <th>24</th>\n      <td>6</td>\n      <td>1.03</td>\n    </tr>\n    <tr>\n      <th>25</th>\n      <td>9</td>\n      <td>-0.99</td>\n    </tr>\n    <tr>\n      <th>26</th>\n      <td>10</td>\n      <td>0.37</td>\n    </tr>\n    <tr>\n      <th>27</th>\n      <td>9</td>\n      <td>0.03</td>\n    </tr>\n    <tr>\n      <th>28</th>\n      <td>3</td>\n      <td>-1.36</td>\n    </tr>\n    <tr>\n      <th>29</th>\n      <td>5</td>\n      <td>0.73</td>\n    </tr>\n  </tbody>\n</table>\n</div>"
     },
     "execution_count": 3,
     "metadata": {},
     "output_type": "execute_result"
    }
   ],
   "source": [
    "data"
   ],
   "metadata": {
    "collapsed": false,
    "pycharm": {
     "name": "#%%\n"
    }
   }
  },
  {
   "cell_type": "markdown",
   "source": [
    "## Plot the data"
   ],
   "metadata": {
    "collapsed": false,
    "pycharm": {
     "name": "#%% md\n"
    }
   }
  },
  {
   "cell_type": "code",
   "execution_count": 4,
   "outputs": [
    {
     "data": {
      "text/plain": "<Figure size 432x288 with 1 Axes>",
      "image/png": "[encoded data removed]"
     },
     "metadata": {},
     "output_type": "display_data"
    }
   ],
   "source": [
    "plt.scatter(data['Satisfaction'], data['Loyalty'])\n",
    "plt.xlabel('Satisfaction')\n",
    "plt.ylabel('Loyalty')\n",
    "plt.show()"
   ],
   "metadata": {
    "collapsed": false,
    "pycharm": {
     "name": "#%%\n"
    }
   }
  },
  {
   "cell_type": "markdown",
   "source": [
    "## Select the features"
   ],
   "metadata": {
    "collapsed": false,
    "pycharm": {
     "name": "#%% md\n"
    }
   }
  },
  {
   "cell_type": "code",
   "execution_count": 5,
   "outputs": [],
   "source": [
    "x = data.copy()"
   ],
   "metadata": {
    "collapsed": false,
    "pycharm": {
     "name": "#%%\n"
    }
   }
  },
  {
   "cell_type": "markdown",
   "source": [
    "## Clustering"
   ],
   "metadata": {
    "collapsed": false,
    "pycharm": {
     "name": "#%% md\n"
    }
   }
  },
  {
   "cell_type": "code",
   "execution_count": 7,
   "outputs": [
    {
     "data": {
      "text/plain": "KMeans(n_clusters=2)"
     },
     "execution_count": 7,
     "metadata": {},
     "output_type": "execute_result"
    }
   ],
   "source": [
    "kmeans = KMeans(2)\n",
    "kmeans.fit(x)"
   ],
   "metadata": {
    "collapsed": false,
    "pycharm": {
     "name": "#%%\n"
    }
   }
  },
  {
   "cell_type": "markdown",
   "source": [
    "## Clustering results"
   ],
   "metadata": {
    "collapsed": false,
    "pycharm": {
     "name": "#%% md\n"
    }
   }
  },
  {
   "cell_type": "code",
   "execution_count": 8,
   "outputs": [],
   "source": [
    "clusters = x.copy()\n",
    "clusters['cluster_pred'] = kmeans.fit_predict(x)"
   ],
   "metadata": {
    "collapsed": false,
    "pycharm": {
     "name": "#%%\n"
    }
   }
  },
  {
   "cell_type": "code",
   "execution_count": 9,
   "outputs": [
    {
     "data": {
      "text/plain": "<Figure size 432x288 with 1 Axes>",
      "image/png": "[encoded data removed]"
     },
     "metadata": {},
     "output_type": "display_data"
    }
   ],
   "source": [
    "plt.scatter(clusters['Satisfaction'], clusters['Loyalty'], c=clusters['cluster_pred'], cmap='rainbow')\n",
    "plt.xlabel('Satisfaction')\n",
    "plt.ylabel('Loyalty')\n",
    "plt.show()"
   ],
   "metadata": {
    "collapsed": false,
    "pycharm": {
     "name": "#%%\n"
    }
   }
  },
  {
   "cell_type": "markdown",
   "source": [
    "## Standardize the variables"
   ],
   "metadata": {
    "collapsed": false,
    "pycharm": {
     "name": "#%% md\n"
    }
   }
  },
  {
   "cell_type": "code",
   "execution_count": 10,
   "outputs": [
    {
     "data": {
      "text/plain": "array([[-0.93138063, -1.3318111 ],\n       [-0.15523011, -0.28117124],\n       [-0.54330537, -0.99160391],\n       [ 0.23284516, -0.29117733],\n       [-0.93138063,  1.05964534],\n       [-2.09560642, -1.6620122 ],\n       [ 1.39707095, -0.97159172],\n       [ 0.62092042, -0.32119561],\n       [ 0.62092042,  1.01962097],\n       [ 0.62092042,  0.67941378],\n       [ 1.39707095, -0.3412078 ],\n       [-0.54330537,  0.38923705],\n       [-0.54330537, -1.69203048],\n       [-1.70753116,  0.66940768],\n       [ 0.23284516,  0.26916393],\n       [ 1.00899568,  1.35982816],\n       [ 0.62092042,  1.37984035],\n       [ 0.23284516,  1.35982816],\n       [ 0.23284516, -0.3412078 ],\n       [ 1.00899568,  0.66940768],\n       [ 1.39707095,  1.17971847],\n       [-1.31945589, -1.69203048],\n       [-0.93138063,  1.03963316],\n       [-1.31945589, -0.96158562],\n       [-0.15523011,  1.02962706],\n       [ 1.00899568, -0.99160391],\n       [ 1.39707095,  0.36922486],\n       [ 1.00899568,  0.02901767],\n       [-1.31945589, -1.36182938],\n       [-0.54330537,  0.72944425]])"
     },
     "execution_count": 10,
     "metadata": {},
     "output_type": "execute_result"
    }
   ],
   "source": [
    "from sklearn import preprocessing\n",
    "x_scaled = preprocessing.scale(x)\n",
    "x_scaled"
   ],
   "metadata": {
    "collapsed": false,
    "pycharm": {
     "name": "#%%\n"
    }
   }
  },
  {
   "cell_type": "markdown",
   "source": [
    "## Take advantage of The Elbow Method"
   ],
   "metadata": {
    "collapsed": false,
    "pycharm": {
     "name": "#%% md\n"
    }
   }
  },
  {
   "cell_type": "code",
   "execution_count": 12,
   "outputs": [
    {
     "data": {
      "text/plain": "[229.16347000000005,\n 74.54254375000002,\n 49.46793333333334,\n 35.52453035714286,\n 26.768262500000002,\n 21.848283333333335,\n 17.80258833333333,\n 14.263521666666668,\n 11.195875000000001]"
     },
     "execution_count": 12,
     "metadata": {},
     "output_type": "execute_result"
    }
   ],
   "source": [
    "wcss = []\n",
    "\n",
    "for i in range(1, 10):\n",
    "    kmeans = KMeans(i)\n",
    "    kmeans.fit(x)\n",
    "    wcss.append(kmeans.inertia_)\n",
    "\n",
    "wcss"
   ],
   "metadata": {
    "collapsed": false,
    "pycharm": {
     "name": "#%%\n"
    }
   }
  },
  {
   "cell_type": "code",
   "execution_count": 13,
   "outputs": [
    {
     "data": {
      "text/plain": "<Figure size 432x288 with 1 Axes>",
      "image/png": "[encoded data removed]"
     },
     "metadata": {},
     "output_type": "display_data"
    }
   ],
   "source": [
    "plt.plot(range(1, 10), wcss)\n",
    "plt.xlabel('Number of clusters')\n",
    "plt.ylabel('WCSS')\n",
    "plt.show()"
   ],
   "metadata": {
    "collapsed": false,
    "pycharm": {
     "name": "#%%\n"
    }
   }
  },
  {
   "cell_type": "markdown",
   "source": [
    "## Explore clustering solutions and select the number of clusters"
   ],
   "metadata": {
    "collapsed": false,
    "pycharm": {
     "name": "#%% md\n"
    }
   }
  },
  {
   "cell_type": "code",
   "execution_count": 35,
   "outputs": [],
   "source": [
    "kmeans_new = KMeans(4)\n",
    "kmeans_new.fit(x_scaled)\n",
    "clusters_new = x.copy()\n",
    "clusters_new['cluster_pred'] = kmeans_new.fit_predict(x_scaled)"
   ],
   "metadata": {
    "collapsed": false,
    "pycharm": {
     "name": "#%%\n"
    }
   }
  },
  {
   "cell_type": "code",
   "execution_count": 36,
   "outputs": [
    {
     "data": {
      "text/plain": "    Satisfaction  Loyalty  cluster_pred\n0              4    -1.33             1\n1              6    -0.28             2\n2              5    -0.99             1\n3              7    -0.29             2\n4              4     1.06             3\n5              1    -1.66             1\n6             10    -0.97             2\n7              8    -0.32             2\n8              8     1.02             0\n9              8     0.68             0\n10            10    -0.34             2\n11             5     0.39             3\n12             5    -1.69             1\n13             2     0.67             3\n14             7     0.27             2\n15             9     1.36             0\n16             8     1.38             0\n17             7     1.36             0\n18             7    -0.34             2\n19             9     0.67             0\n20            10     1.18             0\n21             3    -1.69             1\n22             4     1.04             3\n23             3    -0.96             1\n24             6     1.03             3\n25             9    -0.99             2\n26            10     0.37             0\n27             9     0.03             2\n28             3    -1.36             1\n29             5     0.73             3",
      "text/html": "<div>\n<style scoped>\n    .dataframe tbody tr th:only-of-type {\n        vertical-align: middle;\n    }\n\n    .dataframe tbody tr th {\n        vertical-align: top;\n    }\n\n    .dataframe thead th {\n        text-align: right;\n    }\n</style>\n<table border=\"1\" class=\"dataframe\">\n  <thead>\n    <tr style=\"text-align: right;\">\n      <th></th>\n      <th>Satisfaction</th>\n      <th>Loyalty</th>\n      <th>cluster_pred</th>\n    </tr>\n  </thead>\n  <tbody>\n    <tr>\n      <th>0</th>\n      <td>4</td>\n      <td>-1.33</td>\n      <td>1</td>\n    </tr>\n    <tr>\n      <th>1</th>\n      <td>6</td>\n      <td>-0.28</td>\n      <td>2</td>\n    </tr>\n    <tr>\n      <th>2</th>\n      <td>5</td>\n      <td>-0.99</td>\n      <td>1</td>\n    </tr>\n    <tr>\n      <th>3</th>\n      <td>7</td>\n      <td>-0.29</td>\n      <td>2</td>\n    </tr>\n    <tr>\n      <th>4</th>\n      <td>4</td>\n      <td>1.06</td>\n      <td>3</td>\n    </tr>\n    <tr>\n      <th>5</th>\n      <td>1</td>\n      <td>-1.66</td>\n      <td>1</td>\n    </tr>\n    <tr>\n      <th>6</th>\n      <td>10</td>\n      <td>-0.97</td>\n      <td>2</td>\n    </tr>\n    <tr>\n      <th>7</th>\n      <td>8</td>\n      <td>-0.32</td>\n      <td>2</td>\n    </tr>\n    <tr>\n      <th>8</th>\n      <td>8</td>\n      <td>1.02</td>\n      <td>0</td>\n    </tr>\n    <tr>\n      <th>9</th>\n      <td>8</td>\n      <td>0.68</td>\n      <td>0</td>\n    </tr>\n    <tr>\n      <th>10</th>\n      <td>10</td>\n      <td>-0.34</td>\n      <td>2</td>\n    </tr>\n    <tr>\n      <th>11</th>\n      <td>5</td>\n      <td>0.39</td>\n      <td>3</td>\n    </tr>\n    <tr>\n      <th>12</th>\n      <td>5</td>\n      <td>-1.69</td>\n      <td>1</td>\n    </tr>\n    <tr>\n      <th>13</th>\n      <td>2</td>\n      <td>0.67</td>\n      <td>3</td>\n    </tr>\n    <tr>\n      <th>14</th>\n      <td>7</td>\n      <td>0.27</td>\n      <td>2</td>\n    </tr>\n    <tr>\n      <th>15</th>\n      <td>9</td>\n      <td>1.36</td>\n      <td>0</td>\n    </tr>\n    <tr>\n      <th>16</th>\n      <td>8</td>\n      <td>1.38</td>\n      <td>0</td>\n    </tr>\n    <tr>\n      <th>17</th>\n      <td>7</td>\n      <td>1.36</td>\n      <td>0</td>\n    </tr>\n    <tr>\n      <th>18</th>\n      <td>7</td>\n      <td>-0.34</td>\n      <td>2</td>\n    </tr>\n    <tr>\n      <th>19</th>\n      <td>9</td>\n      <td>0.67</td>\n      <td>0</td>\n    </tr>\n    <tr>\n      <th>20</th>\n      <td>10</td>\n      <td>1.18</td>\n      <td>0</td>\n    </tr>\n    <tr>\n      <th>21</th>\n      <td>3</td>\n      <td>-1.69</td>\n      <td>1</td>\n    </tr>\n    <tr>\n      <th>22</th>\n      <td>4</td>\n      <td>1.04</td>\n      <td>3</td>\n    </tr>\n    <tr>\n      <th>23</th>\n      <td>3</td>\n      <td>-0.96</td>\n      <td>1</td>\n    </tr>\n    <tr>\n      <th>24</th>\n      <td>6</td>\n      <td>1.03</td>\n      <td>3</td>\n    </tr>\n    <tr>\n      <th>25</th>\n      <td>9</td>\n      <td>-0.99</td>\n      <td>2</td>\n    </tr>\n    <tr>\n      <th>26</th>\n      <td>10</td>\n      <td>0.37</td>\n      <td>0</td>\n    </tr>\n    <tr>\n      <th>27</th>\n      <td>9</td>\n      <td>0.03</td>\n      <td>2</td>\n    </tr>\n    <tr>\n      <th>28</th>\n      <td>3</td>\n      <td>-1.36</td>\n      <td>1</td>\n    </tr>\n    <tr>\n      <th>29</th>\n      <td>5</td>\n      <td>0.73</td>\n      <td>3</td>\n    </tr>\n  </tbody>\n</table>\n</div>"
     },
     "execution_count": 36,
     "metadata": {},
     "output_type": "execute_result"
    }
   ],
   "source": [
    "clusters_new"
   ],
   "metadata": {
    "collapsed": false,
    "pycharm": {
     "name": "#%%\n"
    }
   }
  },
  {
   "cell_type": "code",
   "execution_count": 37,
   "outputs": [
    {
     "data": {
      "text/plain": "<Figure size 432x288 with 1 Axes>",
      "image/png": "[encoded data removed]"
     },
     "metadata": {},
     "output_type": "display_data"
    }
   ],
   "source": [
    "plt.scatter(clusters_new['Satisfaction'], clusters_new['Loyalty'], c=clusters_new['cluster_pred'], cmap='rainbow')\n",
    "plt.xlabel('Satisfaction')\n",
    "plt.ylabel('Loyalty')\n",
    "plt.show()"
   ],
   "metadata": {
    "collapsed": false,
    "pycharm": {
     "name": "#%%\n"
    }
   }
  },
  {
   "cell_type": "code",
   "execution_count": null,
   "outputs": [],
   "source": [],
   "metadata": {
    "collapsed": false,
    "pycharm": {
     "name": "#%%\n"
    }
   }
  }
 ],
 "metadata": {
  "kernelspec": {
   "display_name": "Python 3",
   "language": "python",
   "name": "python3"
  },
  "language_info": {
   "codemirror_mode": {
    "name": "ipython",
    "version": 2
   },
   "file_extension": ".py",
   "mimetype": "text/x-python",
   "name": "python",
   "nbconvert_exporter": "python",
   "pygments_lexer": "ipython2",
   "version": "2.7.6"
  }
 },
 "nbformat": 4,
 "nbformat_minor": 0
}