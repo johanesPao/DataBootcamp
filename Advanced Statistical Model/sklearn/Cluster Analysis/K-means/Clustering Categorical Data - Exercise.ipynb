{
 "cells": [
  {
   "cell_type": "markdown",
   "metadata": {
    "pycharm": {
     "name": "#%% md\n"
    }
   },
   "source": [
    "# Clustering Categorical Data "
   ]
  },
  {
   "cell_type": "markdown",
   "metadata": {
    "pycharm": {
     "name": "#%% md\n"
    }
   },
   "source": [
    "You are given much more country data. Using the same methodology as the one in the lecture, group all the countries in 2 clusters.\n",
    "\n",
    "<b> Already done that? Okay! </b>\n",
    "    \n",
    "There are other features: name and continent. \n",
    "\n",
    "Encode the continent one and use it in the clustering solution. Think about the difference with the previous exercise."
   ]
  },
  {
   "cell_type": "markdown",
   "metadata": {
    "pycharm": {
     "name": "#%% md\n"
    }
   },
   "source": [
    "## Import the relevant libraries"
   ]
  },
  {
   "cell_type": "code",
   "execution_count": 1,
   "metadata": {
    "pycharm": {
     "name": "#%%\n"
    }
   },
   "outputs": [],
   "source": [
    "import numpy as np\n",
    "import pandas as pd\n",
    "import matplotlib.pyplot as plt\n",
    "import seaborn as sns\n",
    "sns.set()\n",
    "from sklearn.cluster import KMeans"
   ]
  },
  {
   "cell_type": "markdown",
   "metadata": {
    "pycharm": {
     "name": "#%% md\n"
    }
   },
   "source": [
    "## Load the data"
   ]
  },
  {
   "cell_type": "markdown",
   "metadata": {
    "pycharm": {
     "name": "#%% md\n"
    }
   },
   "source": [
    "Load data from the csv file: <i> 'Categorical.csv'</i>."
   ]
  },
  {
   "cell_type": "code",
   "execution_count": 12,
   "metadata": {
    "pycharm": {
     "name": "#%%\n"
    }
   },
   "outputs": [
    {
     "data": {
      "text/plain": "             name   Longitude   Latitude      continent\n0           Aruba  -69.982677  12.520880  North America\n1     Afghanistan   66.004734  33.835231           Asia\n2          Angola   17.537368 -12.293361         Africa\n3        Anguilla  -63.064989  18.223959  North America\n4         Albania   20.049834  41.142450         Europe\n..            ...         ...        ...            ...\n236         Samoa -172.164851 -13.753243        Oceania\n237         Yemen   47.586762  15.909280           Asia\n238  South Africa   25.083901 -29.000341         Africa\n239        Zambia   27.774759 -13.458242         Africa\n240      Zimbabwe   29.851441 -19.004204         Africa\n\n[241 rows x 4 columns]",
      "text/html": "<div>\n<style scoped>\n    .dataframe tbody tr th:only-of-type {\n        vertical-align: middle;\n    }\n\n    .dataframe tbody tr th {\n        vertical-align: top;\n    }\n\n    .dataframe thead th {\n        text-align: right;\n    }\n</style>\n<table border=\"1\" class=\"dataframe\">\n  <thead>\n    <tr style=\"text-align: right;\">\n      <th></th>\n      <th>name</th>\n      <th>Longitude</th>\n      <th>Latitude</th>\n      <th>continent</th>\n    </tr>\n  </thead>\n  <tbody>\n    <tr>\n      <th>0</th>\n      <td>Aruba</td>\n      <td>-69.982677</td>\n      <td>12.520880</td>\n      <td>North America</td>\n    </tr>\n    <tr>\n      <th>1</th>\n      <td>Afghanistan</td>\n      <td>66.004734</td>\n      <td>33.835231</td>\n      <td>Asia</td>\n    </tr>\n    <tr>\n      <th>2</th>\n      <td>Angola</td>\n      <td>17.537368</td>\n      <td>-12.293361</td>\n      <td>Africa</td>\n    </tr>\n    <tr>\n      <th>3</th>\n      <td>Anguilla</td>\n      <td>-63.064989</td>\n      <td>18.223959</td>\n      <td>North America</td>\n    </tr>\n    <tr>\n      <th>4</th>\n      <td>Albania</td>\n      <td>20.049834</td>\n      <td>41.142450</td>\n      <td>Europe</td>\n    </tr>\n    <tr>\n      <th>...</th>\n      <td>...</td>\n      <td>...</td>\n      <td>...</td>\n      <td>...</td>\n    </tr>\n    <tr>\n      <th>236</th>\n      <td>Samoa</td>\n      <td>-172.164851</td>\n      <td>-13.753243</td>\n      <td>Oceania</td>\n    </tr>\n    <tr>\n      <th>237</th>\n      <td>Yemen</td>\n      <td>47.586762</td>\n      <td>15.909280</td>\n      <td>Asia</td>\n    </tr>\n    <tr>\n      <th>238</th>\n      <td>South Africa</td>\n      <td>25.083901</td>\n      <td>-29.000341</td>\n      <td>Africa</td>\n    </tr>\n    <tr>\n      <th>239</th>\n      <td>Zambia</td>\n      <td>27.774759</td>\n      <td>-13.458242</td>\n      <td>Africa</td>\n    </tr>\n    <tr>\n      <th>240</th>\n      <td>Zimbabwe</td>\n      <td>29.851441</td>\n      <td>-19.004204</td>\n      <td>Africa</td>\n    </tr>\n  </tbody>\n</table>\n<p>241 rows × 4 columns</p>\n</div>"
     },
     "execution_count": 12,
     "metadata": {},
     "output_type": "execute_result"
    }
   ],
   "source": [
    "data = pd.read_csv('Categorical.csv')\n",
    "data"
   ]
  },
  {
   "cell_type": "markdown",
   "metadata": {
    "pycharm": {
     "name": "#%% md\n"
    }
   },
   "source": [
    "Remove the duplicate index column from the dataset. "
   ]
  },
  {
   "cell_type": "code",
   "execution_count": 13,
   "metadata": {
    "pycharm": {
     "name": "#%%\n"
    }
   },
   "outputs": [
    {
     "data": {
      "text/plain": "             name   Longitude   Latitude  continent\n0           Aruba  -69.982677  12.520880          0\n1     Afghanistan   66.004734  33.835231          1\n2          Angola   17.537368 -12.293361          2\n3        Anguilla  -63.064989  18.223959          0\n4         Albania   20.049834  41.142450          3\n..            ...         ...        ...        ...\n236         Samoa -172.164851 -13.753243          5\n237         Yemen   47.586762  15.909280          1\n238  South Africa   25.083901 -29.000341          2\n239        Zambia   27.774759 -13.458242          2\n240      Zimbabwe   29.851441 -19.004204          2\n\n[241 rows x 4 columns]",
      "text/html": "<div>\n<style scoped>\n    .dataframe tbody tr th:only-of-type {\n        vertical-align: middle;\n    }\n\n    .dataframe tbody tr th {\n        vertical-align: top;\n    }\n\n    .dataframe thead th {\n        text-align: right;\n    }\n</style>\n<table border=\"1\" class=\"dataframe\">\n  <thead>\n    <tr style=\"text-align: right;\">\n      <th></th>\n      <th>name</th>\n      <th>Longitude</th>\n      <th>Latitude</th>\n      <th>continent</th>\n    </tr>\n  </thead>\n  <tbody>\n    <tr>\n      <th>0</th>\n      <td>Aruba</td>\n      <td>-69.982677</td>\n      <td>12.520880</td>\n      <td>0</td>\n    </tr>\n    <tr>\n      <th>1</th>\n      <td>Afghanistan</td>\n      <td>66.004734</td>\n      <td>33.835231</td>\n      <td>1</td>\n    </tr>\n    <tr>\n      <th>2</th>\n      <td>Angola</td>\n      <td>17.537368</td>\n      <td>-12.293361</td>\n      <td>2</td>\n    </tr>\n    <tr>\n      <th>3</th>\n      <td>Anguilla</td>\n      <td>-63.064989</td>\n      <td>18.223959</td>\n      <td>0</td>\n    </tr>\n    <tr>\n      <th>4</th>\n      <td>Albania</td>\n      <td>20.049834</td>\n      <td>41.142450</td>\n      <td>3</td>\n    </tr>\n    <tr>\n      <th>...</th>\n      <td>...</td>\n      <td>...</td>\n      <td>...</td>\n      <td>...</td>\n    </tr>\n    <tr>\n      <th>236</th>\n      <td>Samoa</td>\n      <td>-172.164851</td>\n      <td>-13.753243</td>\n      <td>5</td>\n    </tr>\n    <tr>\n      <th>237</th>\n      <td>Yemen</td>\n      <td>47.586762</td>\n      <td>15.909280</td>\n      <td>1</td>\n    </tr>\n    <tr>\n      <th>238</th>\n      <td>South Africa</td>\n      <td>25.083901</td>\n      <td>-29.000341</td>\n      <td>2</td>\n    </tr>\n    <tr>\n      <th>239</th>\n      <td>Zambia</td>\n      <td>27.774759</td>\n      <td>-13.458242</td>\n      <td>2</td>\n    </tr>\n    <tr>\n      <th>240</th>\n      <td>Zimbabwe</td>\n      <td>29.851441</td>\n      <td>-19.004204</td>\n      <td>2</td>\n    </tr>\n  </tbody>\n</table>\n<p>241 rows × 4 columns</p>\n</div>"
     },
     "execution_count": 13,
     "metadata": {},
     "output_type": "execute_result"
    }
   ],
   "source": [
    "data['continent'] = data['continent'].map({'North America': 0, 'Asia': 1, 'Africa': 2, 'Europe': 3, 'South America': 4, 'Oceania': 5, 'Antarctica': 6, 'Seven seas (open ocean)': 7})\n",
    "data"
   ]
  },
  {
   "cell_type": "markdown",
   "metadata": {
    "pycharm": {
     "name": "#%% md\n"
    }
   },
   "source": [
    "## Map the data"
   ]
  },
  {
   "cell_type": "markdown",
   "metadata": {
    "pycharm": {
     "name": "#%% md\n"
    }
   },
   "source": [
    "Use the <i>'continent'</i> category for this analysis."
   ]
  },
  {
   "cell_type": "code",
   "execution_count": 8,
   "metadata": {
    "pycharm": {
     "name": "#%%\n"
    }
   },
   "outputs": [
    {
     "data": {
      "text/plain": "<Figure size 432x288 with 1 Axes>",
      "image/png": "[encoded data removed]"
     },
     "metadata": {},
     "output_type": "display_data"
    }
   ],
   "source": [
    "plt.scatter(data['Longitude'], data['Latitude'])\n",
    "plt.xlim(-180, 180)\n",
    "plt.ylim(-90, 90)\n",
    "plt.show()"
   ]
  },
  {
   "cell_type": "markdown",
   "metadata": {
    "pycharm": {
     "name": "#%% md\n"
    }
   },
   "source": [
    "## Select the features"
   ]
  },
  {
   "cell_type": "code",
   "execution_count": 15,
   "metadata": {
    "pycharm": {
     "name": "#%%\n"
    }
   },
   "outputs": [
    {
     "data": {
      "text/plain": "     continent\n0            0\n1            1\n2            2\n3            0\n4            3\n..         ...\n236          5\n237          1\n238          2\n239          2\n240          2\n\n[241 rows x 1 columns]",
      "text/html": "<div>\n<style scoped>\n    .dataframe tbody tr th:only-of-type {\n        vertical-align: middle;\n    }\n\n    .dataframe tbody tr th {\n        vertical-align: top;\n    }\n\n    .dataframe thead th {\n        text-align: right;\n    }\n</style>\n<table border=\"1\" class=\"dataframe\">\n  <thead>\n    <tr style=\"text-align: right;\">\n      <th></th>\n      <th>continent</th>\n    </tr>\n  </thead>\n  <tbody>\n    <tr>\n      <th>0</th>\n      <td>0</td>\n    </tr>\n    <tr>\n      <th>1</th>\n      <td>1</td>\n    </tr>\n    <tr>\n      <th>2</th>\n      <td>2</td>\n    </tr>\n    <tr>\n      <th>3</th>\n      <td>0</td>\n    </tr>\n    <tr>\n      <th>4</th>\n      <td>3</td>\n    </tr>\n    <tr>\n      <th>...</th>\n      <td>...</td>\n    </tr>\n    <tr>\n      <th>236</th>\n      <td>5</td>\n    </tr>\n    <tr>\n      <th>237</th>\n      <td>1</td>\n    </tr>\n    <tr>\n      <th>238</th>\n      <td>2</td>\n    </tr>\n    <tr>\n      <th>239</th>\n      <td>2</td>\n    </tr>\n    <tr>\n      <th>240</th>\n      <td>2</td>\n    </tr>\n  </tbody>\n</table>\n<p>241 rows × 1 columns</p>\n</div>"
     },
     "execution_count": 15,
     "metadata": {},
     "output_type": "execute_result"
    }
   ],
   "source": [
    "x = data.iloc[:, 3:4]\n",
    "x"
   ]
  },
  {
   "cell_type": "markdown",
   "metadata": {
    "pycharm": {
     "name": "#%% md\n"
    }
   },
   "source": [
    "## Clustering"
   ]
  },
  {
   "cell_type": "markdown",
   "metadata": {
    "pycharm": {
     "name": "#%% md\n"
    }
   },
   "source": [
    "Use 4 clusters initially."
   ]
  },
  {
   "cell_type": "code",
   "execution_count": 16,
   "metadata": {
    "scrolled": true,
    "pycharm": {
     "name": "#%%\n"
    }
   },
   "outputs": [],
   "source": [
    "kmeans = KMeans(4)"
   ]
  },
  {
   "cell_type": "markdown",
   "metadata": {
    "pycharm": {
     "name": "#%% md\n"
    }
   },
   "source": [
    "## Clustering results"
   ]
  },
  {
   "cell_type": "code",
   "execution_count": 18,
   "metadata": {
    "pycharm": {
     "name": "#%%\n"
    }
   },
   "outputs": [
    {
     "data": {
      "text/plain": "KMeans(n_clusters=4)"
     },
     "execution_count": 18,
     "metadata": {},
     "output_type": "execute_result"
    }
   ],
   "source": [
    "kmeans.fit(x)"
   ]
  },
  {
   "cell_type": "code",
   "execution_count": 19,
   "metadata": {
    "scrolled": true,
    "pycharm": {
     "name": "#%%\n"
    }
   },
   "outputs": [
    {
     "data": {
      "text/plain": "array([0, 0, 3, 0, 1, 1, 1, 0, 1, 0, 2, 2, 2, 2, 0, 2, 1, 0, 3, 1, 3, 3,\n       0, 1, 0, 0, 0, 1, 0, 1, 0, 0, 1, 1, 0, 0, 0, 3, 3, 1, 1, 0, 3, 3,\n       3, 3, 2, 1, 3, 3, 0, 0, 0, 0, 0, 0, 1, 1, 3, 0, 1, 0, 3, 1, 3, 3,\n       1, 1, 3, 1, 2, 1, 1, 1, 2, 3, 1, 0, 1, 3, 3, 3, 3, 3, 1, 0, 0, 0,\n       2, 1, 0, 2, 0, 1, 0, 1, 0, 1, 0, 0, 2, 1, 0, 0, 1, 0, 1, 0, 1, 0,\n       0, 0, 0, 3, 0, 0, 2, 0, 0, 1, 0, 0, 0, 3, 3, 0, 1, 0, 3, 1, 1, 1,\n       0, 0, 3, 1, 1, 3, 2, 0, 2, 1, 3, 1, 0, 1, 0, 2, 3, 3, 0, 2, 3, 0,\n       3, 2, 3, 2, 3, 0, 2, 1, 1, 0, 2, 2, 0, 0, 0, 2, 1, 0, 2, 2, 1, 0,\n       0, 1, 1, 0, 2, 0, 1, 1, 3, 3, 0, 3, 3, 3, 0, 2, 2, 2, 3, 0, 1, 3,\n       3, 0, 1, 3, 1, 1, 1, 1, 3, 0, 2, 0, 0, 3, 3, 0, 0, 0, 0, 2, 0, 3,\n       0, 0, 3, 3, 1, 1, 0, 0, 1, 0, 1, 0, 0, 0, 2, 2, 2, 0, 3, 3, 3])"
     },
     "execution_count": 19,
     "metadata": {},
     "output_type": "execute_result"
    }
   ],
   "source": [
    "identified_clusters = kmeans.fit_predict(x)\n",
    "identified_clusters"
   ]
  },
  {
   "cell_type": "markdown",
   "metadata": {
    "pycharm": {
     "name": "#%% md\n"
    }
   },
   "source": [
    "## Plot the data"
   ]
  },
  {
   "cell_type": "code",
   "execution_count": 21,
   "metadata": {
    "scrolled": false,
    "pycharm": {
     "name": "#%%\n"
    }
   },
   "outputs": [
    {
     "data": {
      "text/plain": "<Figure size 432x288 with 1 Axes>",
      "image/png": "[encoded data removed]"
     },
     "metadata": {},
     "output_type": "display_data"
    }
   ],
   "source": [
    "data_with_clusters = data.copy()\n",
    "data_with_clusters['Cluster'] = identified_clusters\n",
    "plt.scatter(data_with_clusters['Longitude'], data_with_clusters['Latitude'], c=data_with_clusters['Cluster'], cmap='rainbow')\n",
    "plt.xlim(-180, 180)\n",
    "plt.ylim(-90, 90)\n",
    "plt.show()"
   ]
  },
  {
   "cell_type": "markdown",
   "metadata": {
    "pycharm": {
     "name": "#%% md\n"
    }
   },
   "source": [
    "Since you already have all the code necessary, go back and play around with the number of clusters. Try 3, 7 and 8 and see if the results match your expectations. "
   ]
  },
  {
   "cell_type": "markdown",
   "metadata": {
    "pycharm": {
     "name": "#%% md\n"
    }
   },
   "source": [
    "Simply go back to the beggining of the <b> Clustering </b> section and change <i> kmeans = KMeans(4) </i> to <i> kmeans = KMeans(3) </i>. Then run the remaining cells until the end."
   ]
  }
 ],
 "metadata": {
  "kernelspec": {
   "display_name": "Python 3",
   "language": "python",
   "name": "python3"
  },
  "language_info": {
   "codemirror_mode": {
    "name": "ipython",
    "version": 3
   },
   "file_extension": ".py",
   "mimetype": "text/x-python",
   "name": "python",
   "nbconvert_exporter": "python",
   "pygments_lexer": "ipython3",
   "version": "3.6.4"
  }
 },
 "nbformat": 4,
 "nbformat_minor": 2
}