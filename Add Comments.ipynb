{
 "cells": [
  {
   "cell_type": "code",
   "execution_count": 2,
   "id": "20eea67b-046f-41cd-8b91-8d7733fa4f6c",
   "metadata": {},
   "outputs": [
    {
     "name": "stdout",
     "output_type": "stream",
     "text": [
      "7 2\n"
     ]
    }
   ],
   "source": [
    "# This is just a comment and not code!\n",
    "print(7, 2)"
   ]
  },
  {
   "cell_type": "code",
   "execution_count": 3,
   "id": "5fce3bab-e637-4299-bda1-003fb69bf535",
   "metadata": {},
   "outputs": [
    {
     "name": "stdout",
     "output_type": "stream",
     "text": [
      "300\n"
     ]
    }
   ],
   "source": [
    "# Comment 1\n",
    "# Comment 2\n",
    "print(300)"
   ]
  },
  {
   "cell_type": "code",
   "execution_count": null,
   "id": "f497fd35-a2d5-4ae9-83ce-976cb7b0e575",
   "metadata": {},
   "outputs": [],
   "source": []
  }
 ],
 "metadata": {
  "kernelspec": {
   "display_name": "Python 3 (ipykernel)",
   "language": "python",
   "name": "python3"
  },
  "language_info": {
   "codemirror_mode": {
    "name": "ipython",
    "version": 3
   },
   "file_extension": ".py",
   "mimetype": "text/x-python",
   "name": "python",
   "nbconvert_exporter": "python",
   "pygments_lexer": "ipython3",
   "version": "3.7.9"
  }
 },
 "nbformat": 4,
 "nbformat_minor": 5
}
